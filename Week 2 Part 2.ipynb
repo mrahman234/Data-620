{
 "cells": [
  {
   "cell_type": "markdown",
   "id": "66b24552-93a4-4b02-8ac4-16587c6077d9",
   "metadata": {},
   "source": [
    "# Centrality Measures\n",
    "## Mohammed Rahman\n",
    "\n",
    "### Assignment Description:\n",
    "\n",
    "Centrality measures can be used to predict (positive or negative) outcomes for a node.\n",
    "\n",
    "Your task in this week’s assignment is to identify an interesting set of network data that is available on the web (either through web scraping or web APIs) that could be used for analyzing and comparing centrality measures across nodes.  As an additional constraint, there should be at least one categorical variable available for each node (such as “Male” or “Female”; “Republican”, “Democrat,” or “Undecided”, etc.)\n",
    "\n",
    "In addition to identifying your data source, you should create a high level plan that describes how you would load the data for analysis, and describe a hypothetical outcome that could be predicted from comparing degree centrality across categorical groups. \n",
    "\n",
    "For this week’s assignment, you are not required to actually load or analyze the data."
   ]
  },
  {
   "cell_type": "markdown",
   "id": "49dd1231-e0c8-44fc-b2ac-ce22149329eb",
   "metadata": {},
   "source": [
    "### Identifying Interesting Network Data\n",
    "\n",
    "For this assignment, I choose data of NYPD Motor Vehicle Collisions Crashes of 2019. \n",
    "\n",
    "NYC has a new initiative called Vision Zero. Its mission is to make New York City the world’s safest big city. One of the leading causes of injury-related death in New York City is being struck by a vehicle. Traffic related fatalities have decreased from 1990 - to 2011, from 701 to 249, respectively.\r\n",
    "\r\n",
    "One of Vision Zero’s initiates is the decrease in speed limits. Unless otherwise posted, the speed limit is 25MPH. The speed limit change was introduced in2014. In this data analysisIwe'll look at a subset from 201t\n",
    "### Data Source\n",
    ".\r\n",
    "\r\n",
    "The data is collected from NYC Open Data, more specificity the NYC NYPD Database, which can be found here: https://data.cityofnewyork.us/Public-Safety/NYPD-Motor-Vehicle-Collisions/h9gi-n\n",
    "\n",
    "### Data Analysis\n",
    "\n",
    "Here, I will select dataset and transform data with a new location variable. I have choosen to use the On Street Name data to build the network. The nodes will be taken from the source of Locations and it will connect Collision ID, Vehicle ID, On Street name nodes.\n",
    "\n",
    "### Hypothetical Outcome\n",
    "\n",
    "Degree Centrality is simply a measure of the number of \"degrees\" a node has. A degree is an outside connection (an edge, linking the node to another node).ess."
   ]
  },
  {
   "cell_type": "code",
   "execution_count": null,
   "id": "90441c73-4c6e-4c88-a276-83c6e9c2bd91",
   "metadata": {},
   "outputs": [],
   "source": []
  }
 ],
 "metadata": {
  "kernelspec": {
   "display_name": "Python 3 (ipykernel)",
   "language": "python",
   "name": "python3"
  },
  "language_info": {
   "codemirror_mode": {
    "name": "ipython",
    "version": 3
   },
   "file_extension": ".py",
   "mimetype": "text/x-python",
   "name": "python",
   "nbconvert_exporter": "python",
   "pygments_lexer": "ipython3",
   "version": "3.11.7"
  }
 },
 "nbformat": 4,
 "nbformat_minor": 5
}
